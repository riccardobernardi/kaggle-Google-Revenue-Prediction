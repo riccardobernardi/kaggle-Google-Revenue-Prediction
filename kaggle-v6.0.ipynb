{
 "cells": [
  {
   "cell_type": "code",
   "execution_count": 1,
   "metadata": {},
   "outputs": [],
   "source": [
    "from conf import *"
   ]
  },
  {
   "cell_type": "code",
   "execution_count": 2,
   "metadata": {},
   "outputs": [],
   "source": [
    "%load_ext autoreload\n",
    "%autoreload 2\n",
    "%reload_ext autoreload"
   ]
  },
  {
   "cell_type": "code",
   "execution_count": 3,
   "metadata": {},
   "outputs": [],
   "source": [
    "#eccezioni, non da droppare\n",
    "target = [\"fullVisitorId\",\"totals.totalTransactionRevenue\"]\n",
    "#num cols\n",
    "nums = [\"visitStartTime\",\"totals.totalTransactionRevenue\"]\n",
    "#cat cols\n",
    "cats = [\"trafficSource.adwordsClickInfo.gclId\",\"trafficSource.referralPath\",\"trafficSource.adContent\"]\n",
    "\n",
    "parameters = {\n",
    "    #numero massimo di valori in una singola colonna per essere flattata, altrimenti drop\n",
    "    \"max_new_feat\":5,\n",
    "    #inviare a kaggle tramite l' API\n",
    "    \"commit\":0,\n",
    "    #lgbm tuning parameters\n",
    "    \"n_leaves\" : 512,\n",
    "    \"feature_fraction\" : 0.99,\n",
    "    \"bagging_fraction\" : 0.99,\n",
    "    \"learn_rate\" : 0.004,\n",
    "    #train rows\n",
    "    \"train_rows\" : 10000,\n",
    "    #test_rows, per submittare deve essere settato a -1\n",
    "    \"test_rows\" : 500,\n",
    "    #il metodo principale è lgbm ma si può testare anche la regressione lineare\n",
    "    \"test_also_lin_reg\" : 1,\n",
    "    #bagging frequency\n",
    "    \"bagging_freq\" : 1,\n",
    "    #transactionRevenue\n",
    "    \"transactionRevenue\" : 0,\n",
    "    #percentuale di dev e val\n",
    "    \"percentage\" : 18,\n",
    "    #grouping_mode_cats\n",
    "    \"grouping_mode_cats\" : \"mean\",\n",
    "    #score\n",
    "    \"final_score\" : -1,\n",
    "    #minio di alberi per il rf\n",
    "    \"min_child_samples\" : -1\n",
    "}\n",
    "\n",
    "locals().update(parameters)"
   ]
  },
  {
   "cell_type": "code",
   "execution_count": 4,
   "metadata": {},
   "outputs": [],
   "source": [
    "if (commit==1) & (test_rows != -1):\n",
    "    raise Exception(\"per submittare devi usare tutte le righe del test\")"
   ]
  },
  {
   "cell_type": "code",
   "execution_count": 5,
   "metadata": {},
   "outputs": [
    {
     "name": "stdout",
     "output_type": "stream",
     "text": [
      "Loaded train_v2.csv. Shape: (10000, 92)\n",
      "CPU times: user 23.9 s, sys: 631 ms, total: 24.5 s\n",
      "Wall time: 24.6 s\n"
     ]
    }
   ],
   "source": [
    "%time train_df = load_df(train_file,train_rows,target)"
   ]
  },
  {
   "cell_type": "code",
   "execution_count": 6,
   "metadata": {},
   "outputs": [
    {
     "name": "stdout",
     "output_type": "stream",
     "text": [
      "Loaded test_v2.csv. Shape: (500, 76)\n",
      "CPU times: user 2.57 s, sys: 33.3 ms, total: 2.6 s\n",
      "Wall time: 2.61 s\n"
     ]
    }
   ],
   "source": [
    "%time test_df = load_df(test_file,test_rows,target)"
   ]
  },
  {
   "cell_type": "code",
   "execution_count": 7,
   "metadata": {},
   "outputs": [],
   "source": [
    "if \"totals.totalTransactionRevenue\" in test_df.columns:\n",
    "    test_df = test_df.drop(\"totals.totalTransactionRevenue\",axis=1)"
   ]
  },
  {
   "cell_type": "code",
   "execution_count": 8,
   "metadata": {},
   "outputs": [],
   "source": [
    "if not transactionRevenue:\n",
    "    if \"totals.transactionRevenue\" in test_df.columns:\n",
    "        test_df = test_df.drop(\"totals.transactionRevenue\",axis=1)"
   ]
  },
  {
   "cell_type": "code",
   "execution_count": 9,
   "metadata": {},
   "outputs": [],
   "source": [
    "if not transactionRevenue:\n",
    "    if \"totals.transactionRevenue\" in train_df.columns:\n",
    "        train_df = train_df.drop(\"totals.transactionRevenue\",axis=1)"
   ]
  },
  {
   "cell_type": "code",
   "execution_count": 10,
   "metadata": {},
   "outputs": [],
   "source": [
    "#controllare che nel nuovo test non droppi totalsRevenue perchè c'è solo nel train\n",
    "train_df,test_df = drop_uncommons(train_df,test_df,target)\n",
    "\n",
    "nums = find_num_cols(train_df,target,cats,nums)\n",
    "\n",
    "cats = find_cat_cols(train_df,target,nums)"
   ]
  },
  {
   "cell_type": "code",
   "execution_count": 11,
   "metadata": {},
   "outputs": [],
   "source": [
    "cc(train_df,test_df,cats,nums)"
   ]
  },
  {
   "cell_type": "code",
   "execution_count": 12,
   "metadata": {},
   "outputs": [],
   "source": [
    "for col in nums:\n",
    "    if (col not in target) | (col==\"totals.totalTransactionRevenue\"):\n",
    "        train_df[col] = train_df[col].astype(float)\n",
    "        if col!=\"totals.totalTransactionRevenue\":\n",
    "            test_df[col] = test_df[col].astype(float)"
   ]
  },
  {
   "cell_type": "code",
   "execution_count": 13,
   "metadata": {},
   "outputs": [],
   "source": [
    "# Impute 0 for missing target values\n",
    "train_df.fillna(0,inplace=True)\n",
    "test_df.fillna(0,inplace=True)"
   ]
  },
  {
   "cell_type": "code",
   "execution_count": 14,
   "metadata": {},
   "outputs": [],
   "source": [
    "train_df = stringify_cats(train_df,cats)\n",
    "test_df = stringify_cats(test_df,cats)"
   ]
  },
  {
   "cell_type": "code",
   "execution_count": 15,
   "metadata": {},
   "outputs": [],
   "source": [
    "#droppo le colonne che hanno troppa varianza\n",
    "train_df,test_df,cats = drop_exceeding(train_df,test_df,max_new_feat,cats,target)"
   ]
  },
  {
   "cell_type": "code",
   "execution_count": 16,
   "metadata": {},
   "outputs": [],
   "source": [
    "cc(train_df,test_df,cats,nums)"
   ]
  },
  {
   "cell_type": "code",
   "execution_count": 17,
   "metadata": {},
   "outputs": [],
   "source": [
    "train_df[cats] = train_df[cats].astype(str)\n",
    "test_df[cats] = test_df[cats].astype(str)"
   ]
  },
  {
   "cell_type": "code",
   "execution_count": 18,
   "metadata": {},
   "outputs": [],
   "source": [
    "######QUI aggiungo il weekday\n",
    "\n",
    "#train_df[\"date\"].weekday()"
   ]
  },
  {
   "cell_type": "code",
   "execution_count": 19,
   "metadata": {},
   "outputs": [
    {
     "name": "stdout",
     "output_type": "stream",
     "text": [
      "[***********]CPU times: user 539 ms, sys: 50 ms, total: 589 ms\n",
      "Wall time: 586 ms\n"
     ]
    }
   ],
   "source": [
    "%time train_df,test_df,cats = encode_cats(train_df,test_df,cats)"
   ]
  },
  {
   "cell_type": "code",
   "execution_count": 20,
   "metadata": {},
   "outputs": [],
   "source": [
    "cc(train_df,test_df,cats,nums)"
   ]
  },
  {
   "cell_type": "code",
   "execution_count": 21,
   "metadata": {
    "scrolled": true
   },
   "outputs": [
    {
     "name": "stdout",
     "output_type": "stream",
     "text": [
      "[******]CPU times: user 143 ms, sys: 23.2 ms, total: 167 ms\n",
      "Wall time: 164 ms\n"
     ]
    }
   ],
   "source": [
    "%time train_df = group_me(train_df,\"fullVisitorId\",cats,nums,grouping_mode_cats)"
   ]
  },
  {
   "cell_type": "code",
   "execution_count": 22,
   "metadata": {},
   "outputs": [
    {
     "name": "stdout",
     "output_type": "stream",
     "text": [
      "\r",
      "\r",
      "\r",
      "\r",
      "\r",
      "\r",
      "[*     ]\r",
      "\r",
      "\r",
      "\r",
      "\r",
      "\r",
      "[**    ]\r",
      "\r",
      "\r",
      "\r",
      "\r",
      "\r",
      "[***   ]\r",
      "\r",
      "\r",
      "\r",
      "\r",
      "\r",
      "[****  ]\r",
      "\r",
      "\r",
      "\r",
      "\r",
      "\r",
      "[***** ]\r",
      "\r",
      "\r",
      "\r",
      "\r",
      "\r",
      "[******]CPU times: user 60.1 ms, sys: 2.53 ms, total: 62.6 ms\n",
      "Wall time: 60.9 ms\n"
     ]
    }
   ],
   "source": [
    "%time test_df = group_me(test_df,\"fullVisitorId\",cats,nums,grouping_mode_cats)"
   ]
  },
  {
   "cell_type": "code",
   "execution_count": 23,
   "metadata": {},
   "outputs": [],
   "source": [
    "cc(train_df,test_df,cats,nums)"
   ]
  },
  {
   "cell_type": "code",
   "execution_count": 24,
   "metadata": {},
   "outputs": [
    {
     "name": "stdout",
     "output_type": "stream",
     "text": [
      "hai scelto di non caricare nè scaricare il dataset\n"
     ]
    }
   ],
   "source": [
    "load = -1\n",
    "base = \"./saved_conf/\"\n",
    "\n",
    "if load == 1:\n",
    "    print(\"hai scelto di importare il dataset da disco\")\n",
    "    train_df = pd.read_csv(base + \"dump_train\")\n",
    "    test_df = pd.read_csv(base + \"dump_test\")\n",
    "    with open(base + \"dump_parameters\", 'r') as file:\n",
    "        file.read(json.loads(parameters))\n",
    "    locals().update(parameters)\n",
    "else:\n",
    "    if load == 0:\n",
    "        print(\"hai scelto di scrivere il dataset su disco\")\n",
    "        %time train_df.to_csv(path_or_buf=base + \"dump_train\", header=True, mode='w',index=False)\n",
    "        test_df.to_csv(path_or_buf=base + \"dump_test\", header=True, mode='w',index=False)\n",
    "        with open(base + \"dump_parameters\", 'w') as file:\n",
    "            file.write(json.dumps(parameters))\n",
    "    else:\n",
    "        print(\"hai scelto di non caricare nè scaricare il dataset\")"
   ]
  },
  {
   "cell_type": "code",
   "execution_count": 25,
   "metadata": {},
   "outputs": [],
   "source": [
    "train_id = train_df[\"fullVisitorId\"].values\n",
    "test_id = test_df[\"fullVisitorId\"].values"
   ]
  },
  {
   "cell_type": "code",
   "execution_count": 26,
   "metadata": {},
   "outputs": [],
   "source": [
    "#pulizia delle colonne con nomi assurdi\n",
    "#questa operazione può essere fatta in maniera safe perchè \n",
    "#a questo punto i due datasets hanno le stesse colonne con gli stessi nomi"
   ]
  },
  {
   "cell_type": "code",
   "execution_count": 27,
   "metadata": {},
   "outputs": [],
   "source": [
    "train_df.columns = [col[:30] for col in train_df.columns]\n",
    "test_df.columns = [col[:30] for col in test_df.columns]"
   ]
  },
  {
   "cell_type": "code",
   "execution_count": 28,
   "metadata": {},
   "outputs": [],
   "source": [
    "common_feats = list((set(train_df.columns).intersection(set(test_df.columns))).difference(set(target)))"
   ]
  },
  {
   "cell_type": "code",
   "execution_count": 29,
   "metadata": {},
   "outputs": [],
   "source": [
    "#qui viene bloccato il controllo di coerenza poichè le colonne cambiano, in particolare i nomi \n",
    "#vengono accorciati ma è safe farlo perchè i nomi delle colonne sono importanti solo nel preprocessing"
   ]
  },
  {
   "cell_type": "code",
   "execution_count": 30,
   "metadata": {},
   "outputs": [],
   "source": [
    "#cc(train_df,test_df,cats,nums)"
   ]
  },
  {
   "cell_type": "code",
   "execution_count": 31,
   "metadata": {},
   "outputs": [],
   "source": [
    "#train_df.head()"
   ]
  },
  {
   "cell_type": "code",
   "execution_count": 32,
   "metadata": {},
   "outputs": [],
   "source": [
    "#splitto il dataframe in development e validation ma cercando di mantenere in maniera \n",
    "#corretta il rapporto dei compratori che è circa dell' 1%\n",
    "\n",
    "#posso fare confronti con 0 perchè prima tutte le colonne sono state messe a 0 perciò non rischio NA\n",
    "\n",
    "#divido il train in 2 parti: quelli che hanno speso che sono l' 1% e quelli che non hanno \n",
    "#speso 99% e da ognuno estraggo il tot% quindi mantengo il rapporto tra i due\n",
    "train_money = train_df[train_df[\"totals.totalTransactionRevenue\"]>0]\n",
    "train_no_money = train_df[train_df[\"totals.totalTransactionRevenue\"]==0]\n",
    "\n",
    "percent = int(len(train_money)*percentage/100)\n",
    "train_money_val = train_money.iloc[:percent,]\n",
    "\n",
    "dev_df = train_money.iloc[percent:len(train_money),]\n",
    "val_df = train_money_val\n",
    "\n",
    "percent = int(len(train_no_money)*percentage/100)\n",
    "train_no_money_val = train_no_money.iloc[:percent,]\n",
    "\n",
    "dev_df = dev_df.append(train_no_money.iloc[percent:len(train_no_money),])\n",
    "val_df = val_df.append(train_no_money_val )\n",
    "\n",
    "\n",
    "###############################################\n",
    "#voglio lavorare su un subset perciò provo a ridurre la grandezza\n",
    "#mantengo il rapporto ma perdo info nelle features\n",
    "#quantity=1\n",
    "\n",
    "#dev_df=dev_df.iloc[:int(len(dev_df)*quantity),:]\n",
    "#val_df=val_df.iloc[:int(len(val_df)*quantity),:]\n",
    "###############################################\n",
    "\n",
    "#dev_y contiene la colonna addestramento in dev già log1p\n",
    "dev_y = np.log1p(dev_df[\"totals.totalTransactionRevenue\"].values)\n",
    "#val_y contiene la colonna target in val già log1p\n",
    "val_y = np.log1p(val_df[\"totals.totalTransactionRevenue\"].values)\n",
    "\n",
    "#dev_x contiene colonne numeriche e cat senza transRev\n",
    "dev_X = dev_df[ common_feats ]\n",
    "#val_x contiene colonne numeriche e cat senza transRev\n",
    "val_X = val_df[ common_feats ]\n",
    "#test è ciò che dobbiamo trovare\n",
    "test_X = test_df[ common_feats ] "
   ]
  },
  {
   "cell_type": "code",
   "execution_count": 33,
   "metadata": {},
   "outputs": [],
   "source": [
    "def write(tipo):\n",
    "    parameters[\"final_score\"] = final_score\n",
    "    try:\n",
    "        if len(pd.read_csv(\"./tests.csv\").columns) != len(parameters.keys())+1:\n",
    "            print(\"il file tests.csv contiene meno colonne del necessario, verrà sostituito con perdita\")\n",
    "            !rm \"./tests.csv\"\n",
    "    except:\n",
    "        print(\"il file tests.csv verrà creato ora perchè non esistente\")\n",
    "    with open(\"./tests.csv\",'a') as ff:\n",
    "        if os.fstat(ff.fileno()).st_size == 0:\n",
    "            for k in parameters.keys():\n",
    "                print(k+',',file = ff,sep='',end='' )\n",
    "            print(\"type\",file = ff) \n",
    "        for v in parameters.values():\n",
    "            print(str(v)+',',file = ff,sep='',end='' )\n",
    "        print(tipo,file = ff ) "
   ]
  },
  {
   "cell_type": "markdown",
   "metadata": {},
   "source": [
    "## Linear Regression"
   ]
  },
  {
   "cell_type": "code",
   "execution_count": 34,
   "metadata": {
    "scrolled": true
   },
   "outputs": [
    {
     "name": "stdout",
     "output_type": "stream",
     "text": [
      "1.0682564694824581\n"
     ]
    }
   ],
   "source": [
    "from regression import lin\n",
    "\n",
    "if test_also_lin_reg == 1:\n",
    "    pred_test = lin(dev_X,dev_y,test_X)\n",
    "    pred_val = lin(dev_X,dev_y,val_X)\n",
    "\n",
    "    val_pred_df = pd.DataFrame({\"fullVisitorId\":val_df[\"fullVisitorId\"].values})\n",
    "    val_pred_df[\"totals.totalTransactionRevenue\"] = val_df[\"totals.totalTransactionRevenue\"].values\n",
    "    val_pred_df[\"PredictedRevenue\"] = np.expm1(pred_val)\n",
    "    val_pred_df = val_pred_df.groupby(\"fullVisitorId\")[\"totals.totalTransactionRevenue\", \"PredictedRevenue\"].sum().reset_index()\n",
    "    val_pred_df[val_pred_df[\"PredictedRevenue\"]>10^20]=0\n",
    "\n",
    "    final_score = np.sqrt(metrics.mean_squared_error(np.log1p(val_pred_df[\"totals.totalTransactionRevenue\"].values)\n",
    "                                                     , np.log1p(val_pred_df[\"PredictedRevenue\"].values)))\n",
    "    print(final_score)\n",
    "    write(\"lin_reg\")"
   ]
  },
  {
   "cell_type": "markdown",
   "metadata": {},
   "source": [
    "## LightGBM single-tree"
   ]
  },
  {
   "cell_type": "code",
   "execution_count": 35,
   "metadata": {},
   "outputs": [],
   "source": [
    "# custom function to run light-gbm model\n",
    "def lgbm(train_X, train_y, val_X, val_y, test_X):\n",
    "    \n",
    "    params = {\n",
    "        \"objective\" : \"regression\",\n",
    "        \"metric\" : \"rmse\",\n",
    "        \"num_leaves\" : n_leaves,\n",
    "        \"feature_fraction\" : feature_fraction,\n",
    "        \"bagging_fraction\" : bagging_fraction,\n",
    "        \"bagging_freq\":bagging_freq,\n",
    "        \"learning_rate\" : learn_rate,\n",
    "        \"verbosity\" : -1\n",
    "    }\n",
    "    \n",
    "    lgtrain = lgb.Dataset(train_X, label=train_y)\n",
    "    lgval = lgb.Dataset(val_X, label=val_y)\n",
    "    model = lgb.train(params, lgtrain, 10000, valid_sets=[lgval], early_stopping_rounds=300, verbose_eval=300,keep_training_booster = True )\n",
    "    \n",
    "    pred_test_y = model.predict(test_X, num_iteration=model.best_iteration)\n",
    "    pred_val_y = model.predict(val_X, num_iteration=model.best_iteration)\n",
    "    return pred_test_y, model, pred_val_y"
   ]
  },
  {
   "cell_type": "code",
   "execution_count": 36,
   "metadata": {},
   "outputs": [],
   "source": [
    "#%time pred_test, model, pred_val = lgbm(dev_X, dev_y, val_X, val_y, test_X)"
   ]
  },
  {
   "cell_type": "code",
   "execution_count": 37,
   "metadata": {},
   "outputs": [],
   "source": [
    "def score():\n",
    "    pred_val[pred_val<0] = 0\n",
    "    val_pred_df = pd.DataFrame({\"fullVisitorId\":val_df[\"fullVisitorId\"].values})\n",
    "    val_pred_df[\"totals.totalTransactionRevenue\"] = val_df[\"totals.totalTransactionRevenue\"].values\n",
    "    val_pred_df[\"PredictedRevenue\"] = np.expm1(pred_val)\n",
    "    val_pred_df = val_pred_df.groupby(\"fullVisitorId\")[\"totals.totalTransactionRevenue\", \"PredictedRevenue\"].sum().reset_index()\n",
    "    final_score = np.sqrt(metrics.mean_squared_error(np.log1p(val_pred_df[\"totals.totalTransactionRevenue\"].values), np.log1p(val_pred_df[\"PredictedRevenue\"].values)))\n",
    "    print(final_score)\n",
    "\n",
    "    sub_df = pd.DataFrame({\"fullVisitorId\":test_id})\n",
    "    pred_test[pred_test<0] = 0\n",
    "    sub_df[\"PredictedLogRevenue\"] = np.expm1(pred_test)\n",
    "    sub_df = sub_df.groupby(\"fullVisitorId\")[\"PredictedLogRevenue\"].sum().reset_index()\n",
    "    sub_df.columns = [\"fullVisitorId\", \"PredictedLogRevenue\"]\n",
    "    sub_df[\"PredictedLogRevenue\"] = np.log1p(sub_df[\"PredictedLogRevenue\"])\n",
    "    \n",
    "    \n",
    "    write(\"LightGBM\")\n",
    "    \n",
    "    if commit:\n",
    "        !kaggle competitions submit -c ga-customer-revenue-prediction -f {my_submission_file} -m \"No Message\"\n",
    "    \n",
    "    \n",
    "    return final_score,sub_df"
   ]
  },
  {
   "cell_type": "code",
   "execution_count": 38,
   "metadata": {},
   "outputs": [],
   "source": [
    "def write_df(sub_df):\n",
    "    sub_df.to_csv(path_or_buf=my_submission_file, header=True, mode='w',index=False)\n",
    "    !wc -l {my_submission_file}"
   ]
  },
  {
   "cell_type": "code",
   "execution_count": 39,
   "metadata": {},
   "outputs": [],
   "source": [
    "#final_score,sub_df = score()"
   ]
  },
  {
   "cell_type": "code",
   "execution_count": 40,
   "metadata": {},
   "outputs": [],
   "source": [
    "#write_df(sub_df)"
   ]
  },
  {
   "cell_type": "code",
   "execution_count": 41,
   "metadata": {},
   "outputs": [],
   "source": [
    "def plot_imp(model):\n",
    "    fig, ax = plt.subplots(figsize=(12,18))\n",
    "    lgb.plot_importance(model, max_num_features=50, height=0.8, ax=ax)\n",
    "    ax.grid(False)\n",
    "    plt.title(\"LightGBM - Feature Importance\", fontsize=15)\n",
    "    plt.show()"
   ]
  },
  {
   "cell_type": "code",
   "execution_count": 42,
   "metadata": {},
   "outputs": [],
   "source": [
    "#plot_imp(model)"
   ]
  },
  {
   "cell_type": "markdown",
   "metadata": {},
   "source": [
    "## LightGBM con rf"
   ]
  },
  {
   "cell_type": "code",
   "execution_count": 43,
   "metadata": {},
   "outputs": [],
   "source": [
    "parameters[\"n_leaves\"] = 400\n",
    "parameters[\"bagging_fraction\"] = 0.99\n",
    "parameters[\"feature_fraction\"] = 0.99\n",
    "parameters[\"bagging_freq\"] = 20\n",
    "parameters[\"min_child_samples\"] = 10\n",
    "locals().update(parameters)"
   ]
  },
  {
   "cell_type": "code",
   "execution_count": 44,
   "metadata": {},
   "outputs": [],
   "source": [
    "# custom function to run light-gbm model\n",
    "def lgbm_rf(train_X, train_y, val_X, val_y, test_X):\n",
    "    \n",
    "    params = {\n",
    "        \"objective\" : \"regression\", \n",
    "        \"metric\" : \"rmse\",\n",
    "        \"num_leaves\" : n_leaves,\n",
    "        \"learning_rate\" : learn_rate,\n",
    "        \"bagging_fraction\" : bagging_fraction,\n",
    "        \"feature_fraction\" : feature_fraction,\n",
    "        \"bagging_freq\":bagging_freq,\n",
    "        'max_depth':-1,\n",
    "        \"min_child_samples\" : min_child_samples,\n",
    "        \"boosting\":\"rf\"\n",
    "    }\n",
    "    \n",
    "    lgtrain = lgb.Dataset(train_X, label=train_y)\n",
    "    lgval = lgb.Dataset(val_X, label=val_y)\n",
    "    model = lgb.train(params, lgtrain, 3000, valid_sets=[lgval], verbose_eval=500,keep_training_booster = True )\n",
    "    \n",
    "    pred_test_y = model.predict(test_X, num_iteration=model.best_iteration)\n",
    "    pred_val_y = model.predict(val_X, num_iteration=model.best_iteration)\n",
    "    return pred_test_y, model, pred_val_y"
   ]
  },
  {
   "cell_type": "code",
   "execution_count": 45,
   "metadata": {},
   "outputs": [],
   "source": [
    "#%time pred_test, model, pred_val = lgbm_rf(dev_X, dev_y, val_X, val_y, test_X)"
   ]
  },
  {
   "cell_type": "code",
   "execution_count": 46,
   "metadata": {},
   "outputs": [],
   "source": [
    "#final_score,sub_df = score()"
   ]
  },
  {
   "cell_type": "code",
   "execution_count": 47,
   "metadata": {},
   "outputs": [],
   "source": [
    "#plot_imp(model)"
   ]
  },
  {
   "cell_type": "markdown",
   "metadata": {},
   "source": [
    "## Iterative Testing"
   ]
  },
  {
   "cell_type": "code",
   "execution_count": 48,
   "metadata": {},
   "outputs": [],
   "source": [
    "def test_leaves_lgbm():\n",
    "    for x in [x for x in range(4,10)]:\n",
    "        x = 2**x\n",
    "        print(\"testing for \",x)\n",
    "        parameters[\"n_leaves\"] = x\n",
    "        locals().update(parameters)\n",
    "        %time pred_test, model, pred_val = lgbm(dev_X, dev_y, val_X, val_y, test_X)\n",
    "        final_score,sub_df = score()\n",
    "        print(\"---------------\")"
   ]
  },
  {
   "cell_type": "code",
   "execution_count": 49,
   "metadata": {},
   "outputs": [
    {
     "name": "stdout",
     "output_type": "stream",
     "text": [
      "testing for  16\n",
      "Training until validation scores don't improve for 300 rounds.\n",
      "[300]\tvalid_0's rmse: 1.66986\n",
      "[600]\tvalid_0's rmse: 1.67376\n",
      "Early stopping, best iteration is:\n",
      "[400]\tvalid_0's rmse: 1.6554\n",
      "CPU times: user 39.7 s, sys: 2.06 s, total: 41.8 s\n",
      "Wall time: 12.6 s\n",
      "1.8356443525475852\n",
      "---------------\n",
      "testing for  32\n",
      "Training until validation scores don't improve for 300 rounds.\n",
      "[300]\tvalid_0's rmse: 1.66986\n",
      "[600]\tvalid_0's rmse: 1.67376\n",
      "Early stopping, best iteration is:\n",
      "[400]\tvalid_0's rmse: 1.6554\n",
      "CPU times: user 34.5 s, sys: 946 ms, total: 35.4 s\n",
      "Wall time: 10.2 s\n",
      "1.8356443525475852\n",
      "---------------\n",
      "testing for  64\n",
      "Training until validation scores don't improve for 300 rounds.\n",
      "[300]\tvalid_0's rmse: 1.66986\n",
      "[600]\tvalid_0's rmse: 1.67376\n",
      "Early stopping, best iteration is:\n",
      "[400]\tvalid_0's rmse: 1.6554\n",
      "CPU times: user 42.7 s, sys: 2.66 s, total: 45.4 s\n",
      "Wall time: 14.4 s\n",
      "1.8356443525475852\n",
      "---------------\n",
      "testing for  128\n",
      "Training until validation scores don't improve for 300 rounds.\n",
      "[300]\tvalid_0's rmse: 1.66986\n",
      "[600]\tvalid_0's rmse: 1.67376\n",
      "Early stopping, best iteration is:\n",
      "[400]\tvalid_0's rmse: 1.6554\n",
      "CPU times: user 36.9 s, sys: 1.39 s, total: 38.3 s\n",
      "Wall time: 10.8 s\n",
      "1.8356443525475852\n",
      "---------------\n",
      "testing for  256\n",
      "Training until validation scores don't improve for 300 rounds.\n",
      "[300]\tvalid_0's rmse: 1.66986\n",
      "[600]\tvalid_0's rmse: 1.67376\n",
      "Early stopping, best iteration is:\n",
      "[400]\tvalid_0's rmse: 1.6554\n",
      "CPU times: user 33.6 s, sys: 710 ms, total: 34.3 s\n",
      "Wall time: 9.08 s\n",
      "1.8356443525475852\n",
      "---------------\n",
      "testing for  512\n",
      "Training until validation scores don't improve for 300 rounds.\n",
      "[300]\tvalid_0's rmse: 1.66986\n",
      "[600]\tvalid_0's rmse: 1.67376\n",
      "Early stopping, best iteration is:\n",
      "[400]\tvalid_0's rmse: 1.6554\n",
      "CPU times: user 31.3 s, sys: 213 ms, total: 31.5 s\n",
      "Wall time: 8 s\n",
      "1.8356443525475852\n",
      "---------------\n",
      "CPU times: user 3min 39s, sys: 8.03 s, total: 3min 47s\n",
      "Wall time: 1min 5s\n"
     ]
    }
   ],
   "source": [
    "%time test_leaves_lgbm()"
   ]
  },
  {
   "cell_type": "code",
   "execution_count": 50,
   "metadata": {},
   "outputs": [],
   "source": [
    "def test_leaves_lgbm_rf():   \n",
    "    for x in [2**x for x in range(4,10)]:\n",
    "        print(\"testing for \",x)\n",
    "        parameters[\"n_leaves\"] = x\n",
    "        locals().update(parameters)\n",
    "        %time pred_test, model, pred_val = lgbm_rf(dev_X, dev_y, val_X, val_y, test_X)\n",
    "        final_score,sub_df = score()\n",
    "        print(\"---------------\")"
   ]
  },
  {
   "cell_type": "code",
   "execution_count": 51,
   "metadata": {},
   "outputs": [
    {
     "name": "stdout",
     "output_type": "stream",
     "text": [
      "testing for  16\n",
      "[500]\tvalid_0's rmse: 1.73363\n",
      "[1000]\tvalid_0's rmse: 1.73208\n",
      "[1500]\tvalid_0's rmse: 1.73366\n",
      "[2000]\tvalid_0's rmse: 1.73542\n",
      "[2500]\tvalid_0's rmse: 1.73637\n",
      "[3000]\tvalid_0's rmse: 1.73688\n",
      "CPU times: user 33.7 s, sys: 1.67 s, total: 35.4 s\n",
      "Wall time: 10.7 s\n",
      "1.8356443525475852\n",
      "---------------\n",
      "testing for  32\n",
      "[500]\tvalid_0's rmse: 1.73363\n",
      "[1000]\tvalid_0's rmse: 1.73208\n",
      "[1500]\tvalid_0's rmse: 1.73366\n",
      "[2000]\tvalid_0's rmse: 1.73542\n",
      "[2500]\tvalid_0's rmse: 1.73637\n",
      "[3000]\tvalid_0's rmse: 1.73688\n",
      "CPU times: user 32.3 s, sys: 1.32 s, total: 33.7 s\n",
      "Wall time: 9.69 s\n",
      "1.8356443525475852\n",
      "---------------\n",
      "testing for  64\n",
      "[500]\tvalid_0's rmse: 1.73363\n",
      "[1000]\tvalid_0's rmse: 1.73208\n",
      "[1500]\tvalid_0's rmse: 1.73366\n",
      "[2000]\tvalid_0's rmse: 1.73542\n",
      "[2500]\tvalid_0's rmse: 1.73637\n",
      "[3000]\tvalid_0's rmse: 1.73688\n",
      "CPU times: user 31 s, sys: 1 s, total: 32 s\n",
      "Wall time: 8.8 s\n",
      "1.8356443525475852\n",
      "---------------\n",
      "testing for  128\n",
      "[500]\tvalid_0's rmse: 1.73363\n",
      "[1000]\tvalid_0's rmse: 1.73208\n",
      "[1500]\tvalid_0's rmse: 1.73366\n",
      "[2000]\tvalid_0's rmse: 1.73542\n",
      "[2500]\tvalid_0's rmse: 1.73637\n",
      "[3000]\tvalid_0's rmse: 1.73688\n",
      "CPU times: user 32.5 s, sys: 1.29 s, total: 33.8 s\n",
      "Wall time: 9.49 s\n",
      "1.8356443525475852\n",
      "---------------\n",
      "testing for  256\n",
      "[500]\tvalid_0's rmse: 1.73363\n",
      "[1000]\tvalid_0's rmse: 1.73208\n",
      "[1500]\tvalid_0's rmse: 1.73366\n",
      "[2000]\tvalid_0's rmse: 1.73542\n",
      "[2500]\tvalid_0's rmse: 1.73637\n",
      "[3000]\tvalid_0's rmse: 1.73688\n",
      "CPU times: user 29.2 s, sys: 544 ms, total: 29.7 s\n",
      "Wall time: 7.78 s\n",
      "1.8356443525475852\n",
      "---------------\n",
      "testing for  512\n",
      "[500]\tvalid_0's rmse: 1.73363\n",
      "[1000]\tvalid_0's rmse: 1.73208\n",
      "[1500]\tvalid_0's rmse: 1.73366\n",
      "[2000]\tvalid_0's rmse: 1.73542\n",
      "[2500]\tvalid_0's rmse: 1.73637\n",
      "[3000]\tvalid_0's rmse: 1.73688\n",
      "CPU times: user 28.5 s, sys: 425 ms, total: 28.9 s\n",
      "Wall time: 7.48 s\n",
      "1.8356443525475852\n",
      "---------------\n",
      "CPU times: user 3min 7s, sys: 6.34 s, total: 3min 14s\n",
      "Wall time: 54.2 s\n"
     ]
    }
   ],
   "source": [
    "%time test_leaves_lgbm_rf()"
   ]
  },
  {
   "cell_type": "code",
   "execution_count": 52,
   "metadata": {},
   "outputs": [],
   "source": [
    "def test_leaves_lgbm_best_value():   \n",
    "    for x in [x for x in range(16,33)]:\n",
    "        print(\"testing for \",x)\n",
    "        parameters[\"n_leaves\"] = x\n",
    "        locals().update(parameters)\n",
    "        %time pred_test, model, pred_val = lgbm(dev_X, dev_y, val_X, val_y, test_X)\n",
    "        final_score,sub_df = score()\n",
    "        print(\"---------------\")"
   ]
  },
  {
   "cell_type": "code",
   "execution_count": 53,
   "metadata": {},
   "outputs": [
    {
     "name": "stdout",
     "output_type": "stream",
     "text": [
      "testing for  16\n",
      "Training until validation scores don't improve for 300 rounds.\n",
      "[300]\tvalid_0's rmse: 1.66986\n",
      "[600]\tvalid_0's rmse: 1.67376\n",
      "Early stopping, best iteration is:\n",
      "[400]\tvalid_0's rmse: 1.6554\n",
      "CPU times: user 34.6 s, sys: 943 ms, total: 35.5 s\n",
      "Wall time: 9.74 s\n",
      "1.8356443525475852\n",
      "---------------\n",
      "testing for  17\n",
      "Training until validation scores don't improve for 300 rounds.\n",
      "[300]\tvalid_0's rmse: 1.66986\n",
      "[600]\tvalid_0's rmse: 1.67376\n",
      "Early stopping, best iteration is:\n",
      "[400]\tvalid_0's rmse: 1.6554\n",
      "CPU times: user 33.8 s, sys: 771 ms, total: 34.6 s\n",
      "Wall time: 9.43 s\n",
      "1.8356443525475852\n",
      "---------------\n",
      "testing for  18\n",
      "Training until validation scores don't improve for 300 rounds.\n",
      "[300]\tvalid_0's rmse: 1.66986\n",
      "[600]\tvalid_0's rmse: 1.67376\n",
      "Early stopping, best iteration is:\n",
      "[400]\tvalid_0's rmse: 1.6554\n",
      "CPU times: user 34.4 s, sys: 832 ms, total: 35.2 s\n",
      "Wall time: 9.53 s\n",
      "1.8356443525475852\n",
      "---------------\n",
      "testing for  19\n",
      "Training until validation scores don't improve for 300 rounds.\n",
      "[300]\tvalid_0's rmse: 1.66986\n",
      "[600]\tvalid_0's rmse: 1.67376\n",
      "Early stopping, best iteration is:\n",
      "[400]\tvalid_0's rmse: 1.6554\n",
      "CPU times: user 34.6 s, sys: 896 ms, total: 35.5 s\n",
      "Wall time: 9.74 s\n",
      "1.8356443525475852\n",
      "---------------\n",
      "testing for  20\n",
      "Training until validation scores don't improve for 300 rounds.\n",
      "[300]\tvalid_0's rmse: 1.66986\n",
      "[600]\tvalid_0's rmse: 1.67376\n",
      "Early stopping, best iteration is:\n",
      "[400]\tvalid_0's rmse: 1.6554\n",
      "CPU times: user 37.5 s, sys: 1.49 s, total: 39 s\n",
      "Wall time: 11.5 s\n",
      "1.8356443525475852\n",
      "---------------\n",
      "testing for  21\n",
      "Training until validation scores don't improve for 300 rounds.\n",
      "[300]\tvalid_0's rmse: 1.66986\n",
      "[600]\tvalid_0's rmse: 1.67376\n",
      "Early stopping, best iteration is:\n",
      "[400]\tvalid_0's rmse: 1.6554\n",
      "CPU times: user 40.4 s, sys: 2.26 s, total: 42.7 s\n",
      "Wall time: 13.4 s\n",
      "1.8356443525475852\n",
      "---------------\n",
      "testing for  22\n",
      "Training until validation scores don't improve for 300 rounds.\n",
      "[300]\tvalid_0's rmse: 1.66986\n",
      "[600]\tvalid_0's rmse: 1.67376\n",
      "Early stopping, best iteration is:\n",
      "[400]\tvalid_0's rmse: 1.6554\n",
      "CPU times: user 32.4 s, sys: 427 ms, total: 32.8 s\n",
      "Wall time: 8.52 s\n",
      "1.8356443525475852\n",
      "---------------\n",
      "testing for  23\n",
      "Training until validation scores don't improve for 300 rounds.\n",
      "[300]\tvalid_0's rmse: 1.66986\n",
      "[600]\tvalid_0's rmse: 1.67376\n",
      "Early stopping, best iteration is:\n",
      "[400]\tvalid_0's rmse: 1.6554\n",
      "CPU times: user 36.1 s, sys: 1.2 s, total: 37.3 s\n",
      "Wall time: 10.5 s\n",
      "1.8356443525475852\n",
      "---------------\n",
      "testing for  24\n",
      "Training until validation scores don't improve for 300 rounds.\n",
      "[300]\tvalid_0's rmse: 1.66986\n",
      "[600]\tvalid_0's rmse: 1.67376\n",
      "Early stopping, best iteration is:\n",
      "[400]\tvalid_0's rmse: 1.6554\n",
      "CPU times: user 36.6 s, sys: 1.34 s, total: 37.9 s\n",
      "Wall time: 10.8 s\n",
      "1.8356443525475852\n",
      "---------------\n",
      "testing for  25\n",
      "Training until validation scores don't improve for 300 rounds.\n",
      "[300]\tvalid_0's rmse: 1.66986\n",
      "[600]\tvalid_0's rmse: 1.67376\n",
      "Early stopping, best iteration is:\n",
      "[400]\tvalid_0's rmse: 1.6554\n",
      "CPU times: user 31.2 s, sys: 152 ms, total: 31.3 s\n",
      "Wall time: 7.89 s\n",
      "1.8356443525475852\n",
      "---------------\n",
      "testing for  26\n",
      "Training until validation scores don't improve for 300 rounds.\n",
      "[300]\tvalid_0's rmse: 1.66986\n",
      "[600]\tvalid_0's rmse: 1.67376\n",
      "Early stopping, best iteration is:\n",
      "[400]\tvalid_0's rmse: 1.6554\n",
      "CPU times: user 34.2 s, sys: 751 ms, total: 35 s\n",
      "Wall time: 9.28 s\n",
      "1.8356443525475852\n",
      "---------------\n",
      "testing for  27\n",
      "Training until validation scores don't improve for 300 rounds.\n",
      "[300]\tvalid_0's rmse: 1.66986\n",
      "[600]\tvalid_0's rmse: 1.67376\n",
      "Early stopping, best iteration is:\n",
      "[400]\tvalid_0's rmse: 1.6554\n",
      "CPU times: user 37.3 s, sys: 1.44 s, total: 38.8 s\n",
      "Wall time: 10.9 s\n",
      "1.8356443525475852\n",
      "---------------\n",
      "testing for  28\n",
      "Training until validation scores don't improve for 300 rounds.\n",
      "[300]\tvalid_0's rmse: 1.66986\n",
      "[600]\tvalid_0's rmse: 1.67376\n",
      "Early stopping, best iteration is:\n",
      "[400]\tvalid_0's rmse: 1.6554\n",
      "CPU times: user 33.9 s, sys: 774 ms, total: 34.7 s\n",
      "Wall time: 9.38 s\n",
      "1.8356443525475852\n",
      "---------------\n",
      "testing for  29\n",
      "Training until validation scores don't improve for 300 rounds.\n",
      "[300]\tvalid_0's rmse: 1.66986\n",
      "[600]\tvalid_0's rmse: 1.67376\n",
      "Early stopping, best iteration is:\n",
      "[400]\tvalid_0's rmse: 1.6554\n",
      "CPU times: user 36.5 s, sys: 1.27 s, total: 37.8 s\n",
      "Wall time: 10.6 s\n",
      "1.8356443525475852\n",
      "---------------\n",
      "testing for  30\n",
      "Training until validation scores don't improve for 300 rounds.\n",
      "[300]\tvalid_0's rmse: 1.66986\n",
      "[600]\tvalid_0's rmse: 1.67376\n",
      "Early stopping, best iteration is:\n",
      "[400]\tvalid_0's rmse: 1.6554\n",
      "CPU times: user 31.2 s, sys: 164 ms, total: 31.4 s\n",
      "Wall time: 7.93 s\n",
      "1.8356443525475852\n",
      "---------------\n",
      "testing for  31\n",
      "Training until validation scores don't improve for 300 rounds.\n",
      "[300]\tvalid_0's rmse: 1.66986\n",
      "[600]\tvalid_0's rmse: 1.67376\n",
      "Early stopping, best iteration is:\n",
      "[400]\tvalid_0's rmse: 1.6554\n",
      "CPU times: user 35.2 s, sys: 930 ms, total: 36.1 s\n",
      "Wall time: 9.7 s\n",
      "1.8356443525475852\n",
      "---------------\n",
      "testing for  32\n",
      "Training until validation scores don't improve for 300 rounds.\n",
      "[300]\tvalid_0's rmse: 1.66986\n",
      "[600]\tvalid_0's rmse: 1.67376\n",
      "Early stopping, best iteration is:\n",
      "[400]\tvalid_0's rmse: 1.6554\n",
      "CPU times: user 33.7 s, sys: 675 ms, total: 34.4 s\n",
      "Wall time: 9.07 s\n",
      "1.8356443525475852\n",
      "---------------\n",
      "CPU times: user 9min 54s, sys: 16.4 s, total: 10min 11s\n",
      "Wall time: 2min 48s\n"
     ]
    }
   ],
   "source": [
    "%time test_leaves_lgbm_best_value()"
   ]
  },
  {
   "cell_type": "code",
   "execution_count": null,
   "metadata": {},
   "outputs": [],
   "source": []
  }
 ],
 "metadata": {
  "kernelspec": {
   "display_name": "Python 3",
   "language": "python",
   "name": "python3"
  },
  "language_info": {
   "codemirror_mode": {
    "name": "ipython",
    "version": 3
   },
   "file_extension": ".py",
   "mimetype": "text/x-python",
   "name": "python",
   "nbconvert_exporter": "python",
   "pygments_lexer": "ipython3",
   "version": "3.6.5"
  },
  "toc": {
   "base_numbering": 1,
   "nav_menu": {},
   "number_sections": true,
   "sideBar": true,
   "skip_h1_title": false,
   "title_cell": "Table of Contents",
   "title_sidebar": "Contents",
   "toc_cell": false,
   "toc_position": {},
   "toc_section_display": true,
   "toc_window_display": false
  }
 },
 "nbformat": 4,
 "nbformat_minor": 2
}
