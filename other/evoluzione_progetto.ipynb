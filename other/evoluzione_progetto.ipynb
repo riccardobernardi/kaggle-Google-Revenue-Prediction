{
 "cells": [
  {
   "cell_type": "markdown",
   "metadata": {},
   "source": [
    "# FIXINGS da fare nel futuro prossimo\n",
    "\n",
    "- se hai errori del tipo che non puoi sommare stringhe con float ecc controlla questo: train_df[nums].dtypes. Questo errore sarà piu visibile aumentando le righe che verranno considerate nel readcsv\n",
    "\n",
    "- attenzione che il totals.totalTransactionRevenue si palesa solo mettendo 10000 righe o più, prima non esiste\n",
    "\n",
    "- se ti viene fuoi un errore di incoerenza è +erchè hai messo troppe poche righe nel df\n",
    "\n",
    "- ci sono feature con nomi lunghi centinaia di caratteri e questo fa arrabbiare LGBM, l' errore che esce è wrong size for feature_name e puoi verificarlo facendo dev_df.head()\n",
    "\n",
    "- penso che l' errore di feature_name esca anche per le troppe colonne o altro\n",
    "\n",
    "- attenzione: news: se metto solo 5 su max_new_feats allora funziona tutto perfettamente, se metto 50 scoppia...\n",
    "\n",
    "- si è deciso di non aprire le liste di dicts nelle colonne poichè ci sarebbe overfit a sapere persino lo sku di un prodotto, quel che serve viene preso dal dict per colonna\n",
    "\n",
    "- usare ipywidgets\n",
    "\n",
    "- aggiunere colonna con foglie e score, sia per linreg che per lgbm\n",
    "\n",
    "- spostare cc in un nuovo file e importare dal main il nuovo file e dal nuovo file importare il main perchè così si avrà scope sulle pub_var del main\n",
    "\n",
    "- si potrebbero aggiungere le interactions sia tra una variabile e se stessa per n volte sia con diverse variabile, tutto ciò lo si vorrebbe fare solo sulle colonne numeriche poichè su quelle categoriale non avrebbe senso\n",
    "\n",
    "- migliorare computo moda \n",
    "\n",
    "- istanze con errore maggiore,distribuzione settimanale, comprano poco tanto,nazione\n",
    "\n",
    "- ri-aggiungere giorno della settimana con one hot encoding, cioè non con valori da 0 a 6 ma binario"
   ]
  },
  {
   "cell_type": "markdown",
   "metadata": {},
   "source": [
    "## Richieste del prof(prioritarie)\n",
    "\n",
    "- fare tests con diversi valori\n",
    "\n",
    "- aggiungere curve per capire i migliori valori di n_leaves nell rf e nel single-tree\n",
    "\n",
    "- togliere mediana e media\n",
    "\n",
    "- probabilmente le azioni di un utente dipende da quello che ha fatto al massimo nelle 2 settimane precedenti\n",
    "\n",
    "- eliminare i tests su media/mediana/moda e testare solo il numero di foglie"
   ]
  },
  {
   "cell_type": "code",
   "execution_count": null,
   "metadata": {},
   "outputs": [],
   "source": []
  }
 ],
 "metadata": {
  "kernelspec": {
   "display_name": "Python 3",
   "language": "python",
   "name": "python3"
  },
  "language_info": {
   "codemirror_mode": {
    "name": "ipython",
    "version": 3
   },
   "file_extension": ".py",
   "mimetype": "text/x-python",
   "name": "python",
   "nbconvert_exporter": "python",
   "pygments_lexer": "ipython3",
   "version": "3.6.5"
  }
 },
 "nbformat": 4,
 "nbformat_minor": 2
}
